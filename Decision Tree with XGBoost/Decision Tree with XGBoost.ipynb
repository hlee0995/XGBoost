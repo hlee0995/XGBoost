{
 "cells": [
  {
   "cell_type": "markdown",
   "id": "566d3c2a",
   "metadata": {},
   "source": [
    "XGBoost is one of emsemble methods which connects several machine learning models. \n",
    "\n",
    "We call those each models as base learner"
   ]
  },
  {
   "cell_type": "markdown",
   "id": "b38375d6",
   "metadata": {},
   "source": [
    "### 1, Basic Steps"
   ]
  },
  {
   "cell_type": "code",
   "execution_count": 1,
   "id": "a51a86f2",
   "metadata": {},
   "outputs": [],
   "source": [
    "import pandas as pd\n",
    "import numpy as np\n",
    "import warnings\n",
    "warnings.filterwarnings(\"ignore\")"
   ]
  },
  {
   "cell_type": "code",
   "execution_count": 3,
   "id": "b6fd7e59",
   "metadata": {},
   "outputs": [],
   "source": [
    "df_census = pd.read_csv(\"cleaned data\")"
   ]
  },
  {
   "cell_type": "code",
   "execution_count": 19,
   "id": "cfd6582a",
   "metadata": {},
   "outputs": [
    {
     "data": {
      "text/html": [
       "<div>\n",
       "<style scoped>\n",
       "    .dataframe tbody tr th:only-of-type {\n",
       "        vertical-align: middle;\n",
       "    }\n",
       "\n",
       "    .dataframe tbody tr th {\n",
       "        vertical-align: top;\n",
       "    }\n",
       "\n",
       "    .dataframe thead th {\n",
       "        text-align: right;\n",
       "    }\n",
       "</style>\n",
       "<table border=\"1\" class=\"dataframe\">\n",
       "  <thead>\n",
       "    <tr style=\"text-align: right;\">\n",
       "      <th></th>\n",
       "      <th>instant</th>\n",
       "      <th>season</th>\n",
       "      <th>yr</th>\n",
       "      <th>mnth</th>\n",
       "      <th>holiday</th>\n",
       "      <th>weekday</th>\n",
       "      <th>workingday</th>\n",
       "      <th>weathersit</th>\n",
       "      <th>temp</th>\n",
       "      <th>atemp</th>\n",
       "      <th>hum</th>\n",
       "      <th>windspeed</th>\n",
       "      <th>registered</th>\n",
       "    </tr>\n",
       "  </thead>\n",
       "  <tbody>\n",
       "    <tr>\n",
       "      <th>0</th>\n",
       "      <td>1</td>\n",
       "      <td>1.0</td>\n",
       "      <td>0.0</td>\n",
       "      <td>1</td>\n",
       "      <td>0.0</td>\n",
       "      <td>6.0</td>\n",
       "      <td>0.0</td>\n",
       "      <td>2</td>\n",
       "      <td>0.344167</td>\n",
       "      <td>0.363625</td>\n",
       "      <td>0.805833</td>\n",
       "      <td>0.160446</td>\n",
       "      <td>654</td>\n",
       "    </tr>\n",
       "    <tr>\n",
       "      <th>1</th>\n",
       "      <td>2</td>\n",
       "      <td>1.0</td>\n",
       "      <td>0.0</td>\n",
       "      <td>1</td>\n",
       "      <td>0.0</td>\n",
       "      <td>0.0</td>\n",
       "      <td>0.0</td>\n",
       "      <td>2</td>\n",
       "      <td>0.363478</td>\n",
       "      <td>0.353739</td>\n",
       "      <td>0.696087</td>\n",
       "      <td>0.248539</td>\n",
       "      <td>670</td>\n",
       "    </tr>\n",
       "    <tr>\n",
       "      <th>2</th>\n",
       "      <td>3</td>\n",
       "      <td>1.0</td>\n",
       "      <td>0.0</td>\n",
       "      <td>1</td>\n",
       "      <td>0.0</td>\n",
       "      <td>1.0</td>\n",
       "      <td>1.0</td>\n",
       "      <td>1</td>\n",
       "      <td>0.196364</td>\n",
       "      <td>0.189405</td>\n",
       "      <td>0.437273</td>\n",
       "      <td>0.248309</td>\n",
       "      <td>1229</td>\n",
       "    </tr>\n",
       "    <tr>\n",
       "      <th>3</th>\n",
       "      <td>4</td>\n",
       "      <td>1.0</td>\n",
       "      <td>0.0</td>\n",
       "      <td>1</td>\n",
       "      <td>0.0</td>\n",
       "      <td>2.0</td>\n",
       "      <td>1.0</td>\n",
       "      <td>1</td>\n",
       "      <td>0.200000</td>\n",
       "      <td>0.212122</td>\n",
       "      <td>0.590435</td>\n",
       "      <td>0.160296</td>\n",
       "      <td>1454</td>\n",
       "    </tr>\n",
       "    <tr>\n",
       "      <th>4</th>\n",
       "      <td>5</td>\n",
       "      <td>1.0</td>\n",
       "      <td>0.0</td>\n",
       "      <td>1</td>\n",
       "      <td>0.0</td>\n",
       "      <td>3.0</td>\n",
       "      <td>1.0</td>\n",
       "      <td>1</td>\n",
       "      <td>0.226957</td>\n",
       "      <td>0.229270</td>\n",
       "      <td>0.436957</td>\n",
       "      <td>0.186900</td>\n",
       "      <td>1518</td>\n",
       "    </tr>\n",
       "    <tr>\n",
       "      <th>...</th>\n",
       "      <td>...</td>\n",
       "      <td>...</td>\n",
       "      <td>...</td>\n",
       "      <td>...</td>\n",
       "      <td>...</td>\n",
       "      <td>...</td>\n",
       "      <td>...</td>\n",
       "      <td>...</td>\n",
       "      <td>...</td>\n",
       "      <td>...</td>\n",
       "      <td>...</td>\n",
       "      <td>...</td>\n",
       "      <td>...</td>\n",
       "    </tr>\n",
       "    <tr>\n",
       "      <th>726</th>\n",
       "      <td>727</td>\n",
       "      <td>1.0</td>\n",
       "      <td>1.0</td>\n",
       "      <td>12</td>\n",
       "      <td>0.0</td>\n",
       "      <td>4.0</td>\n",
       "      <td>1.0</td>\n",
       "      <td>2</td>\n",
       "      <td>0.254167</td>\n",
       "      <td>0.226642</td>\n",
       "      <td>0.652917</td>\n",
       "      <td>0.350133</td>\n",
       "      <td>1867</td>\n",
       "    </tr>\n",
       "    <tr>\n",
       "      <th>727</th>\n",
       "      <td>728</td>\n",
       "      <td>1.0</td>\n",
       "      <td>1.0</td>\n",
       "      <td>12</td>\n",
       "      <td>0.0</td>\n",
       "      <td>5.0</td>\n",
       "      <td>1.0</td>\n",
       "      <td>2</td>\n",
       "      <td>0.253333</td>\n",
       "      <td>0.255046</td>\n",
       "      <td>0.590000</td>\n",
       "      <td>0.155471</td>\n",
       "      <td>2451</td>\n",
       "    </tr>\n",
       "    <tr>\n",
       "      <th>728</th>\n",
       "      <td>729</td>\n",
       "      <td>1.0</td>\n",
       "      <td>1.0</td>\n",
       "      <td>12</td>\n",
       "      <td>0.0</td>\n",
       "      <td>6.0</td>\n",
       "      <td>0.0</td>\n",
       "      <td>2</td>\n",
       "      <td>0.253333</td>\n",
       "      <td>0.242400</td>\n",
       "      <td>0.752917</td>\n",
       "      <td>0.124383</td>\n",
       "      <td>1182</td>\n",
       "    </tr>\n",
       "    <tr>\n",
       "      <th>729</th>\n",
       "      <td>730</td>\n",
       "      <td>1.0</td>\n",
       "      <td>1.0</td>\n",
       "      <td>12</td>\n",
       "      <td>0.0</td>\n",
       "      <td>0.0</td>\n",
       "      <td>0.0</td>\n",
       "      <td>1</td>\n",
       "      <td>0.255833</td>\n",
       "      <td>0.231700</td>\n",
       "      <td>0.483333</td>\n",
       "      <td>0.350754</td>\n",
       "      <td>1432</td>\n",
       "    </tr>\n",
       "    <tr>\n",
       "      <th>730</th>\n",
       "      <td>731</td>\n",
       "      <td>1.0</td>\n",
       "      <td>1.0</td>\n",
       "      <td>12</td>\n",
       "      <td>0.0</td>\n",
       "      <td>1.0</td>\n",
       "      <td>0.0</td>\n",
       "      <td>2</td>\n",
       "      <td>0.215833</td>\n",
       "      <td>0.223487</td>\n",
       "      <td>0.577500</td>\n",
       "      <td>0.154846</td>\n",
       "      <td>2290</td>\n",
       "    </tr>\n",
       "  </tbody>\n",
       "</table>\n",
       "<p>731 rows × 13 columns</p>\n",
       "</div>"
      ],
      "text/plain": [
       "     instant  season   yr  mnth  holiday  weekday  workingday  weathersit  \\\n",
       "0          1     1.0  0.0     1      0.0      6.0         0.0           2   \n",
       "1          2     1.0  0.0     1      0.0      0.0         0.0           2   \n",
       "2          3     1.0  0.0     1      0.0      1.0         1.0           1   \n",
       "3          4     1.0  0.0     1      0.0      2.0         1.0           1   \n",
       "4          5     1.0  0.0     1      0.0      3.0         1.0           1   \n",
       "..       ...     ...  ...   ...      ...      ...         ...         ...   \n",
       "726      727     1.0  1.0    12      0.0      4.0         1.0           2   \n",
       "727      728     1.0  1.0    12      0.0      5.0         1.0           2   \n",
       "728      729     1.0  1.0    12      0.0      6.0         0.0           2   \n",
       "729      730     1.0  1.0    12      0.0      0.0         0.0           1   \n",
       "730      731     1.0  1.0    12      0.0      1.0         0.0           2   \n",
       "\n",
       "         temp     atemp       hum  windspeed  registered  \n",
       "0    0.344167  0.363625  0.805833   0.160446         654  \n",
       "1    0.363478  0.353739  0.696087   0.248539         670  \n",
       "2    0.196364  0.189405  0.437273   0.248309        1229  \n",
       "3    0.200000  0.212122  0.590435   0.160296        1454  \n",
       "4    0.226957  0.229270  0.436957   0.186900        1518  \n",
       "..        ...       ...       ...        ...         ...  \n",
       "726  0.254167  0.226642  0.652917   0.350133        1867  \n",
       "727  0.253333  0.255046  0.590000   0.155471        2451  \n",
       "728  0.253333  0.242400  0.752917   0.124383        1182  \n",
       "729  0.255833  0.231700  0.483333   0.350754        1432  \n",
       "730  0.215833  0.223487  0.577500   0.154846        2290  \n",
       "\n",
       "[731 rows x 13 columns]"
      ]
     },
     "execution_count": 19,
     "metadata": {},
     "output_type": "execute_result"
    }
   ],
   "source": [
    "df_census"
   ]
  },
  {
   "cell_type": "code",
   "execution_count": 5,
   "id": "02ba60c1",
   "metadata": {},
   "outputs": [],
   "source": [
    "X = df_census.iloc[:,:-1]\n",
    "y = df_census.iloc[:,-1]"
   ]
  },
  {
   "cell_type": "code",
   "execution_count": 25,
   "id": "dffb389b",
   "metadata": {},
   "outputs": [],
   "source": [
    "from sklearn.model_selection import train_test_split\n",
    "\n",
    "X_train, X_test, y_train, y_test = train_test_split(X, y, random_state=2)"
   ]
  },
  {
   "cell_type": "code",
   "execution_count": 26,
   "id": "3c9b648a",
   "metadata": {},
   "outputs": [],
   "source": [
    "from sklearn.tree import DecisionTreeClassifier\n",
    "from sklearn.metrics import accuracy_score"
   ]
  },
  {
   "cell_type": "code",
   "execution_count": 27,
   "id": "30ac550c",
   "metadata": {},
   "outputs": [],
   "source": [
    "clf = DecisionTreeClassifier(random_state=2)"
   ]
  },
  {
   "cell_type": "code",
   "execution_count": 28,
   "id": "dd950c5f",
   "metadata": {},
   "outputs": [
    {
     "data": {
      "text/plain": [
       "DecisionTreeClassifier(random_state=2)"
      ]
     },
     "execution_count": 28,
     "metadata": {},
     "output_type": "execute_result"
    }
   ],
   "source": [
    "clf.fit(X_train,y_train)"
   ]
  },
  {
   "cell_type": "code",
   "execution_count": 29,
   "id": "b4b19d78",
   "metadata": {},
   "outputs": [],
   "source": [
    "y_pred = clf.predict(X_test) "
   ]
  },
  {
   "cell_type": "code",
   "execution_count": 30,
   "id": "3d333f86",
   "metadata": {},
   "outputs": [
    {
     "data": {
      "text/plain": [
       "0.0"
      ]
     },
     "execution_count": 30,
     "metadata": {},
     "output_type": "execute_result"
    }
   ],
   "source": [
    "accuracy_score(y_pred, y_test)"
   ]
  },
  {
   "cell_type": "code",
   "execution_count": 31,
   "id": "80058f9e",
   "metadata": {},
   "outputs": [
    {
     "data": {
      "text/plain": [
       "array([4881, 3309,  888,  889, 1707, 2507, 3946, 3138, 2169, 2693, 2883,\n",
       "        768, 3603, 5657, 2395, 2419, 2825, 2874, 5995, 3729, 4451, 4377,\n",
       "       4429,  768, 1799, 4801, 4186, 5647, 3848, 5571, 5125, 1597, 3107,\n",
       "       3114, 5182, 2507, 1918, 3425, 4069, 4157, 4484, 5711, 1707, 5608,\n",
       "       6697, 3992, 4240, 5254, 4379, 4240, 3628, 3813, 3399, 1620, 4157,\n",
       "       6280,  654, 3946, 4990, 5657, 5502, 1009, 3805, 5711, 2919, 4122,\n",
       "       4914, 4653, 2108, 3392, 2468, 4934, 4026, 4739, 3717, 6365, 3688,\n",
       "        746, 2261, 5265, 5504, 4157, 6289, 3628,  905, 4176, 4240, 3729,\n",
       "       5608, 5502, 2883, 3528, 4232, 4122, 3413, 5504, 5227, 4874, 1707,\n",
       "       6102, 4134, 2419, 3603, 6642, 3445, 4240, 3195, 5711, 5339, 3900,\n",
       "       5024, 3480, 1354, 2493, 6630, 4374, 3445, 4907, 5424, 5995, 1379,\n",
       "       4157, 3197, 5187, 5283, 4663, 3784, 3445, 4267, 4052, 2916, 4665,\n",
       "       2081, 4157, 3562, 6015, 3896, 5339, 2825, 3114, 6278, 4196, 4728,\n",
       "       4934, 6238, 4111, 4224, 1009, 1437, 6149, 3791, 1745, 3992, 3267,\n",
       "       3724, 3445, 4763, 1817, 1229, 5647, 4026, 1597, 4018, 4134, 1489,\n",
       "       4023, 1705, 1280, 2170, 4881, 2574, 4240, 3946, 3562, 3309, 5657,\n",
       "       3248, 3309, 3714, 3534, 3840, 1362, 5676], dtype=int64)"
      ]
     },
     "execution_count": 31,
     "metadata": {},
     "output_type": "execute_result"
    }
   ],
   "source": [
    "y_pred"
   ]
  },
  {
   "cell_type": "code",
   "execution_count": 24,
   "id": "c0685243",
   "metadata": {},
   "outputs": [
    {
     "data": {
      "text/plain": [
       "0       654\n",
       "1       670\n",
       "2      1229\n",
       "3      1454\n",
       "4      1518\n",
       "       ... \n",
       "726    1867\n",
       "727    2451\n",
       "728    1182\n",
       "729    1432\n",
       "730    2290\n",
       "Name: registered, Length: 731, dtype: int64"
      ]
     },
     "execution_count": 24,
     "metadata": {},
     "output_type": "execute_result"
    }
   ],
   "source": [
    "y"
   ]
  },
  {
   "cell_type": "code",
   "execution_count": null,
   "id": "6bc1e040",
   "metadata": {},
   "outputs": [],
   "source": []
  }
 ],
 "metadata": {
  "kernelspec": {
   "display_name": "Python 3 (ipykernel)",
   "language": "python",
   "name": "python3"
  },
  "language_info": {
   "codemirror_mode": {
    "name": "ipython",
    "version": 3
   },
   "file_extension": ".py",
   "mimetype": "text/x-python",
   "name": "python",
   "nbconvert_exporter": "python",
   "pygments_lexer": "ipython3",
   "version": "3.9.12"
  }
 },
 "nbformat": 4,
 "nbformat_minor": 5
}
